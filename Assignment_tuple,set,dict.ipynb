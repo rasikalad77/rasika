{
 "cells": [
  {
   "cell_type": "markdown",
   "id": "d7a58542-9844-4d85-986a-e161b7c3eb9f",
   "metadata": {},
   "source": [
    "## Q1: Join Tuples if similar initial element\n",
    "#### While working with Python tuples, we can have a problem in which we need to perform concatenation of records from the similarity of initial element.This problem can have applications in data domains such as Data Science.\n",
    "\n",
    "#### For eg.\n",
    "\n",
    "#### Input  : test_list = [(5, 6), (5, 7), (5, 8), (6, 10), (7, 13)] \n",
    "#### Output : [(5, 6, 7, 8), (6, 10), (7, 13)] "
   ]
  },
  {
   "cell_type": "code",
   "execution_count": 2,
   "id": "b881abae-a07d-468b-ab0b-7ca8161f5f69",
   "metadata": {},
   "outputs": [
    {
     "name": "stdout",
     "output_type": "stream",
     "text": [
      "The original list is : [(5, 6), (5, 7), (5, 8), (6, 10), (7, 13)]\n",
      "The extracted elements : [(5, 6, 7, 8), (6, 10), (7, 13)]\n"
     ]
    }
   ],
   "source": [
    "test_list = [(5, 6), (5, 7), (5, 8), (6, 10), (7, 13)]\n",
    "\n",
    "print(\"The original list is : \" + str(test_list))\n",
    " \n",
    "output_list = []\n",
    "for sub in test_list:\n",
    "    if output_list and output_list[-1][0] == sub[0]:\n",
    "        output_list[-1].extend(sub[1:])\n",
    "    else:\n",
    "        output_list.append([ele for ele in sub])\n",
    "output_list = list(map(tuple, output_list))\n",
    " \n",
    "print(\"The extracted elements : \" + str(output_list))"
   ]
  },
  {
   "cell_type": "markdown",
   "id": "33fd5aed-0247-4981-a0a4-2eb65c0e5742",
   "metadata": {},
   "source": [
    "## Q2: Multiply Adjacent elements (both side) and take sum of right and lest side multiplication result.\n",
    "###  For eg.\n",
    "\n",
    "#### The original tuple : (1, 5, 7, 8, 10)\n",
    "#### Resultant tuple after multiplication : \n",
    "\n",
    "#### (1*5, 1*5+5*7, 7*5 + 7*8, 8*7 + 8*10, 10*8) -> (5, 40, 91, 136, 80)\n",
    "\n",
    "#### output-(5, 40, 91, 136, 80)"
   ]
  },
  {
   "cell_type": "code",
   "execution_count": 1,
   "id": "a9711005-de0c-44a2-bd82-b63da6062946",
   "metadata": {},
   "outputs": [
    {
     "name": "stdout",
     "output_type": "stream",
     "text": [
      "(2801, 561, 85, 45, 281)\n"
     ]
    }
   ],
   "source": [
    "def multiply_and_sum_adjacent_elements(ot):\n",
    "    result = []\n",
    "    for i in range(len(ot)):\n",
    "        left_product = 1\n",
    "        right_product = 1\n",
    "        for j in range(i):\n",
    "            left_product *= ot[j]\n",
    "        for k in range(i + 1, len(ot)):\n",
    "            right_product *= ot[k]\n",
    "        result.append(left_product + right_product)\n",
    "    return tuple(result)\n",
    "\n",
    "ot = (1,5,7,8,10)\n",
    "rt = multiply_and_sum_adjacent_elements(ot)\n",
    "print(rt)"
   ]
  },
  {
   "cell_type": "code",
   "execution_count": null,
   "id": "5f9a6e9b-29d3-45b5-8774-abf01d40d562",
   "metadata": {},
   "outputs": [],
   "source": [
    "x=[1,2,3,4]\n",
    "print sum(a*b for a,b in zip(x, x[1:]))"
   ]
  },
  {
   "cell_type": "markdown",
   "id": "06aa2b1f-8afe-4a12-8d5b-ca82d500fc27",
   "metadata": {},
   "source": [
    "## Q3: Check is tuples are same or not? Two tuples would be same if both tuples have same element at same index\n",
    "\n",
    "#### t1 = (1,2,3,0)\n",
    "#### t2 = (0,1,2,3)\n",
    "\n",
    "##### t1 and t2 are not same"
   ]
  },
  {
   "cell_type": "code",
   "execution_count": 1,
   "id": "c75d9f6a-a2da-4d7b-bd24-51b601846ef2",
   "metadata": {},
   "outputs": [
    {
     "name": "stdout",
     "output_type": "stream",
     "text": [
      "Tuple are not same.\n"
     ]
    }
   ],
   "source": [
    "t1 = (1,2,3,4)\n",
    "t2 = (0,1,2,3)\n",
    "if t1 == t2:\n",
    "    print(\"Tuple are same.\")\n",
    "else:\n",
    "    print(\"Tuple are not same.\")"
   ]
  },
  {
   "cell_type": "markdown",
   "id": "20ec7ef6-be5c-4132-89a5-872e147a002d",
   "metadata": {},
   "source": [
    "## Q4: Count no of tuples, list and set from a list\n",
    "#### list1 = [{'hi', 'bye'},{'Geeks', 'forGeeks'},('a', 'b'),['hi', 'bye'],['a', 'b']]"
   ]
  },
  {
   "cell_type": "code",
   "execution_count": 1,
   "id": "728b0b83-31e7-4a97-ade2-e06af3abdec0",
   "metadata": {},
   "outputs": [
    {
     "name": "stdout",
     "output_type": "stream",
     "text": [
      "List is  2\n",
      "Set is  2\n",
      "Tuple is  1\n"
     ]
    }
   ],
   "source": [
    "list1 = [{'hi', 'bye'},{'Geeks', 'forGeeks'},('a', 'b'),['hi', 'bye'],['a', 'b']]\n",
    "List =0\n",
    "Set = 0\n",
    "Tuple = 0\n",
    "a = \"\"\n",
    "for i in list1:\n",
    "    a = type(i)\n",
    "    if a == list:\n",
    "        List +=1\n",
    "    elif a == set:\n",
    "        Set +=1\n",
    "    else:\n",
    "        Tuple +=1\n",
    "\n",
    "print(\"List is \",List)\n",
    "print(\"Set is \",Set)\n",
    "print(\"Tuple is \",Tuple)"
   ]
  },
  {
   "cell_type": "markdown",
   "id": "e0d5cbbe-4e79-4498-8ed4-8a0f4023c6f0",
   "metadata": {},
   "source": [
    "## Q5: Shortlist Students for a Job role Ask user to input students record and store in tuples for each record. Then Ask user to input three things he wants in the candidate- Primary Skill, Higher Education, Year of Graduation.\n",
    "\n",
    "#### Show every students record in form of tuples if matches all required criteria.\n",
    "\n",
    "#### It is assumed that there will be only one primry skill.\n",
    "\n",
    "#### If no such candidate found, print No such candidate\n",
    "#### input : \n",
    "#### Enter No of records- 2\n",
    "#### Enter Details of student-1\n",
    "#### Enter Student name- Manohar\n",
    "#### Enter Higher Education- B.Tech\n",
    "#### Enter Primary Skill- Python\n",
    "#### Enter Year of Graduation- 2022\n",
    "#### Enter Details of student-2\n",
    "#### Enter Student name- Ponian\n",
    "#### Enter Higher Education- B.Sc.\n",
    "#### Enter Primary Skill- C++\n",
    "#### Enter Year of Graduation- 2020\n",
    "\n",
    "#### Enter Job Role Requirement\n",
    "#### Enter Skill- Python\n",
    "#### Enter Higher Education- B.Tech\n",
    "#### Enter Year of Graduation- 2022\n"
   ]
  },
  {
   "cell_type": "code",
   "execution_count": 1,
   "id": "6d6c769d-78a1-43d3-a7b3-3b62a939251e",
   "metadata": {},
   "outputs": [
    {
     "name": "stdin",
     "output_type": "stream",
     "text": [
      "Enter the number of students:  2\n",
      "Enter student name:  manohar\n",
      "Enter student's primary skill:  python\n",
      "Enter student's higher education:  B.tech\n",
      "Enter student's year of graduation:  2022\n",
      "Enter student name:  ponima\n",
      "Enter student's primary skill:  c++\n",
      "Enter student's higher education:  B.sc\n",
      "Enter student's year of graduation:  2022\n",
      "Enter the desired primary skill:  python\n",
      "Enter the desired higher education:  B.tech\n",
      "Enter the desired year of graduation:  2022\n"
     ]
    },
    {
     "name": "stdout",
     "output_type": "stream",
     "text": [
      "Match found: ('manohar', 'python', 'B.tech', 2022)\n"
     ]
    }
   ],
   "source": [
    "num_students = int(input(\"Enter the number of students: \"))\n",
    "students = []  \n",
    "for _ in range(num_students):\n",
    "    name = input(\"Enter student name: \")\n",
    "    primary_skill = input(\"Enter student's primary skill: \")\n",
    "    higher_education = input(\"Enter student's higher education: \")\n",
    "    year_of_graduation = int(input(\"Enter student's year of graduation: \"))\n",
    "    students.append((name, primary_skill, higher_education, year_of_graduation))\n",
    "\n",
    "desired_primary_skill = input(\"Enter the desired primary skill: \")\n",
    "desired_higher_education = input(\"Enter the desired higher education: \")\n",
    "desired_year_of_graduation = int(input(\"Enter the desired year of graduation: \"))\n",
    "\n",
    "found_match = False\n",
    "for student in students:\n",
    "    name, skill, education, graduation_year = student\n",
    "    if (\n",
    "        skill == desired_primary_skill\n",
    "        and education == desired_higher_education\n",
    "        and graduation_year == desired_year_of_graduation\n",
    "    ):\n",
    "        print(f\"Match found: {student}\")\n",
    "        found_match = True\n",
    "\n",
    "if not found_match:\n",
    "    print(\"No such candidate.\")"
   ]
  },
  {
   "cell_type": "markdown",
   "id": "574fa191-26a1-4503-bd94-fd0c31d2abe4",
   "metadata": {},
   "source": [
    "# Set"
   ]
  },
  {
   "cell_type": "markdown",
   "id": "e810598d-8e4f-4371-acd2-d91bd69b21bf",
   "metadata": {},
   "source": [
    "## Q1: Write a program to find set of common elements in three lists using sets.\n",
    "#### Input : ar1 = [1, 5, 10, 20, 40, 80]\n",
    "        ar2 = [6, 7, 20, 80, 100]\n",
    "        ar3 = [3, 4, 15, 20, 30, 70, 80, 120]"
   ]
  },
  {
   "cell_type": "code",
   "execution_count": 3,
   "id": "8fbbc2ce-bbab-4cae-bc59-e95e724dbcd2",
   "metadata": {},
   "outputs": [
    {
     "name": "stdout",
     "output_type": "stream",
     "text": [
      "Common elements: [80, 20]\n"
     ]
    }
   ],
   "source": [
    "def find_common_elements(ar1, ar2, ar3):\n",
    "   \n",
    "    set1 = set(ar1)\n",
    "    set2 = set(ar2)\n",
    "    set3 = set(ar3)\n",
    "    \n",
    "    common_elements = set1.intersection(set2, set3)\n",
    "    \n",
    "    return list(common_elements)\n",
    "\n",
    "ar1 = [1, 5, 10, 20, 40, 80]\n",
    "ar2 = [6, 7, 20, 80, 100]\n",
    "ar3 = [3, 4, 15, 20, 30, 70, 80, 120]\n",
    "\n",
    "result = find_common_elements(ar1, ar2, ar3)\n",
    "print(\"Common elements:\", result)"
   ]
  },
  {
   "cell_type": "markdown",
   "id": "1064bd0a-0807-4e3f-9e7f-56e21e1d7f80",
   "metadata": {},
   "source": [
    "## Q2: Write a program to count unique number of vowels using sets in a given string. Lowercase and upercase vowels will be taken as different.\n",
    "#### Input:\n",
    "\n",
    "#### Str1 = \"hands-on data science mentorship progrAm with live classes at affordable fee only on CampusX\""
   ]
  },
  {
   "cell_type": "code",
   "execution_count": 5,
   "id": "96d0aa27-3126-4c11-80de-b0df3226e646",
   "metadata": {},
   "outputs": [
    {
     "name": "stdout",
     "output_type": "stream",
     "text": [
      "No. of unique vowels: 28\n"
     ]
    }
   ],
   "source": [
    "def count_unique_vowels(s):\n",
    "    vowels = set(\"aeiouAEIOU\")\n",
    "    \n",
    "    unique_vowels_count = 0\n",
    "    \n",
    "    \n",
    "    for char in s:\n",
    "        if char in vowels:\n",
    "            unique_vowels_count += 1\n",
    "    \n",
    "    return unique_vowels_count\n",
    "\n",
    "str1 = \"hands-on data science mentorship program with live classes at affordable fee only on campusx\"\n",
    "result = count_unique_vowels(str1)\n",
    "print(f\"No. of unique vowels: {result}\")"
   ]
  },
  {
   "cell_type": "markdown",
   "id": "b3142357-4d63-49af-ac10-10fed974f218",
   "metadata": {},
   "source": [
    "## Q3: Write a program to Check if a given string is binary string of or not.\n",
    " #### A string is said to be binary if it's consists of only two unique characters.\n",
    "\n",
    " #### Take string input from user.\n",
    "\n",
    "Input: str = \"01010101010\"\n",
    "Output: Yes\n",
    "\n",
    "Input: str = \"1222211\"\n",
    "Output: Yes\n",
    "\n",
    "Input: str = \"Campusx\"\n",
    "Output: No"
   ]
  },
  {
   "cell_type": "code",
   "execution_count": 2,
   "id": "8e56163e-4bc9-491d-a7ed-c8c4ca7371af",
   "metadata": {},
   "outputs": [
    {
     "name": "stdin",
     "output_type": "stream",
     "text": [
      "Enter a string:  campusx\n"
     ]
    },
    {
     "name": "stdout",
     "output_type": "stream",
     "text": [
      "No\n"
     ]
    }
   ],
   "source": [
    "def check_binary(string):\n",
    "    unique_chars = set(string)\n",
    "    binary_chars = {'0', '1'}\n",
    "    if unique_chars == binary_chars or unique_chars == {'0'} or unique_chars == {'1'}:\n",
    "        return \"Yes\"\n",
    "    else:\n",
    "        return \"No\"\n",
    "\n",
    "user_input = input(\"Enter a string: \")\n",
    "print(check_binary(user_input))"
   ]
  },
  {
   "cell_type": "markdown",
   "id": "3290aadb-987b-4648-a79d-726aa68b5b71",
   "metadata": {},
   "source": [
    "## Q4: find union of n arrays.\n",
    "#### Example 1:\n",
    "\n",
    "Input:\n",
    "\n",
    "[[1, 2, 2, 4, 3, 6],\n",
    " [5, 1, 3, 4],\n",
    " [9, 5, 7, 1],\n",
    " [2, 4, 1, 3]]\n",
    "Output:\n",
    "\n",
    "[1, 2, 3, 4, 5, 6, 7, 9]"
   ]
  },
  {
   "cell_type": "code",
   "execution_count": 4,
   "id": "cf7a1ff8-1a63-4f9e-8d50-cff900a32858",
   "metadata": {},
   "outputs": [
    {
     "name": "stdout",
     "output_type": "stream",
     "text": [
      "[1, 2, 3, 4, 5, 6, 7, 9]\n"
     ]
    }
   ],
   "source": [
    "arrays = [[1, 2, 2, 4, 3, 6], [5, 1, 3, 4], [9, 5, 7, 1],[2, 4, 1, 3]]\n",
    "\n",
    "result = set()\n",
    "\n",
    "for array in arrays:\n",
    "\n",
    "   result.update(array)\n",
    "\n",
    "print(list(result))"
   ]
  },
  {
   "cell_type": "markdown",
   "id": "2a437a9f-a429-49c4-ba5e-ba8976915c96",
   "metadata": {},
   "source": [
    "## Q5: Intersection of two lists. Intersection of two list means we need to take all those elements which are common to both of the initial lists and store them into another list. Only use using list-comprehension.\n",
    "#### Example 1:\n",
    "\n",
    "Input:\n",
    "\n",
    "lst1 = {15, 9, 10, 56, 23, 78, 5, 4, 9}\n",
    "lst2 = {9, 4, 5, 36, 47, 26, 10, 45, 87}\n",
    "Output:\n",
    "\n",
    "[9, 10, 4, 5]"
   ]
  },
  {
   "cell_type": "code",
   "execution_count": 3,
   "id": "67feb858-5a9d-49bd-aed1-bc9177c04e67",
   "metadata": {},
   "outputs": [
    {
     "name": "stdout",
     "output_type": "stream",
     "text": [
      "[9, 10, 5, 4, 9]\n"
     ]
    }
   ],
   "source": [
    "def intersection(lst1, lst2):\n",
    "    return [value for value in lst1 if value in lst2]\n",
    "\n",
    "lst1 = [15, 9, 10, 56, 23, 78, 5, 4, 9]\n",
    "lst2 = [9, 4, 5, 36, 47, 26, 10, 45, 87]\n",
    "result = intersection(lst1, lst2)\n",
    "print(result) "
   ]
  },
  {
   "cell_type": "markdown",
   "id": "1f486b91-52c0-41e4-9b7f-63aa43dc932b",
   "metadata": {},
   "source": [
    "## Example 2:\n",
    "\n",
    "#### Input:\n",
    "\n",
    "lst1 = {4, 9, 1, 17, 11, 26, 28, 54, 69}\n",
    "lst2 = {9, 9, 74, 21, 45, 11, 63, 28, 26}\n",
    "Output:\n",
    "\n",
    "[9, 11, 26, 28]"
   ]
  },
  {
   "cell_type": "code",
   "execution_count": 21,
   "id": "710bedf2-a8a8-4d97-a640-53ac7fd783eb",
   "metadata": {},
   "outputs": [
    {
     "name": "stdout",
     "output_type": "stream",
     "text": [
      "[9, 11, 26, 28]\n"
     ]
    }
   ],
   "source": [
    "def intersection(lst1, lst2):\n",
    "    return [value for value in lst1 if value in lst2]\n",
    "\n",
    "lst1 = {4, 9, 1, 17, 11, 26, 28, 54, 69} \n",
    "lst2 =  {9, 9, 74, 21, 45, 11, 63, 28, 26}\n",
    "result = intersection(lst1, lst2)\n",
    "print(result) "
   ]
  },
  {
   "cell_type": "markdown",
   "id": "d13e5566-0dcd-4fb1-a11f-04de005c4279",
   "metadata": {},
   "source": [
    "## Dictionary"
   ]
  },
  {
   "cell_type": "markdown",
   "id": "0b7f7f4a-27a7-4bbb-ba54-b6417be4fbf6",
   "metadata": {},
   "source": [
    "## Q1: Key with maximum unique values\n",
    "#### Given a dictionary with values list, extract key whose value has most unique values.\n",
    "\n",
    "#### Example 1:\n",
    "\n",
    "Input:\n",
    "\n",
    "test_dict = {\"CampusX\" : [5, 7, 9, 4, 0], \"is\" : [6, 7, 4, 3, 3], \"Best\" : [9, 9, 6, 5, 5]}\n",
    "Output:\n",
    "\n",
    "CampusX"
   ]
  },
  {
   "cell_type": "code",
   "execution_count": 20,
   "id": "0b186fcf-163a-471e-8ec6-2e770c9f323c",
   "metadata": {},
   "outputs": [
    {
     "name": "stdout",
     "output_type": "stream",
     "text": [
      "is\n"
     ]
    }
   ],
   "source": [
    "test_dict = {\"CampusX\" : [5, 7, 9, 4, 0], \"is\" : [6, 7, 4, 3, 3], \"Best\" : [9, 9, 6, 5, 5]}\n",
    "print(max(test_dict))"
   ]
  },
  {
   "cell_type": "markdown",
   "id": "abb74cca-9f75-4dab-b083-509cbaad2901",
   "metadata": {},
   "source": [
    "## Example 2:\n",
    "\n",
    "#### Input:\n",
    "\n",
    "test_dict = {\"CampusX\" : [5, 7, 7, 7, 7], \"is\" : [6, 7, 7, 7], \"Best\" : [9, 9, 6, 5, 5]}\n",
    "Output:\n",
    "\n",
    "Best"
   ]
  },
  {
   "cell_type": "code",
   "execution_count": 18,
   "id": "7c664e9e-5b4f-4d4a-b7ac-200619cae1bd",
   "metadata": {},
   "outputs": [
    {
     "name": "stdout",
     "output_type": "stream",
     "text": [
      "Best\n"
     ]
    }
   ],
   "source": [
    "test_dict = {\"CampusX\" : [5, 7, 9, 4, 0], \"is\" : [6, 7, 4, 3, 3], \"Best\" : [9, 9, 6, 5, 5]}\n",
    "print(min(test_dict))"
   ]
  },
  {
   "cell_type": "markdown",
   "id": "7a263822-2380-45b4-8f6c-5dd0699aecac",
   "metadata": {},
   "source": [
    "## Q2: Replace words from Dictionary. Given String, replace it’s words from lookup dictionary.\n",
    "#### Example 1:\n",
    "\n",
    "#### Input:\n",
    "\n",
    "test_str = 'CampusX best for DS students.'\n",
    "repl_dict = {\"best\" : \"is the best channel\", \"DS\" : \"Data-Science\"}\n",
    "#### Output:\n",
    "\n",
    "CampusX is the best channel for Data-Science students."
   ]
  },
  {
   "cell_type": "code",
   "execution_count": 3,
   "id": "1d63d7ed-5801-4168-aa96-8f2340c529c4",
   "metadata": {},
   "outputs": [
    {
     "name": "stdout",
     "output_type": "stream",
     "text": [
      "Replaced Strings: CampusX is the best channel for Data-Science students.\n"
     ]
    }
   ],
   "source": [
    "def replace_words(input_str, repl_dict):\n",
    "    for key, value in repl_dict.items():\n",
    "        input_str = input_str.replace(key, value)\n",
    "    return input_str\n",
    "\n",
    "test_str = 'CampusX best for DS students.'\n",
    "repl_dict = {\"best\": \"is the best channel\", \"DS\": \"Data-Science\"}\n",
    "output = replace_words(test_str, repl_dict)\n",
    "print(\"Replaced Strings:\", output)"
   ]
  },
  {
   "cell_type": "markdown",
   "id": "cd07d8f1-7294-43eb-b35d-c829d4d170f7",
   "metadata": {},
   "source": [
    "## Example 2:\n",
    "\n",
    "#### Input:\n",
    "\n",
    "test_str = 'CampusX best for DS students.'\n",
    "repl_dict = {\"good\" : \"is the best channel\", \"ds\" : \"Data-Science\"}\n",
    "#### Output:\n",
    "\n",
    "CampusX best for DS students."
   ]
  },
  {
   "cell_type": "code",
   "execution_count": null,
   "id": "7c7dc18d-6838-48ae-8014-89c467e29ee7",
   "metadata": {},
   "outputs": [],
   "source": [
    "def replace_words(input_str, repl_dict):\n",
    "    for key, value in repl_dict.items():\n",
    "        input_str = input_str.replace(key, value)\n",
    "    return input_str\n",
    "\n",
    "test_str =  'CampusX best for DS students.'\n",
    "repl_dict =\n",
    "output = replace_words(test_str, repl_dict)\n",
    "print(\"Replaced Strings:\", output)"
   ]
  },
  {
   "cell_type": "markdown",
   "id": "61366012-5605-4b7c-a634-96009e2485e3",
   "metadata": {},
   "source": [
    "## Q3: Convert List to List of dictionaries. Given list values and keys list, convert these values to key value pairs in form of list of dictionaries.\n",
    "Example 1:\n",
    "\n",
    "#### Input:\n",
    "\n",
    "test_list = [\"DataScience\", 3, \"is\", 8]\n",
    "key_list = [\"name\", \"id\"]\n",
    "#### Output:\n",
    "\n",
    "[{'name': 'DataScience', 'id': 3}, {'name': 'is', 'id': 8}]"
   ]
  },
  {
   "cell_type": "code",
   "execution_count": 9,
   "id": "0a786d53-4b5d-4cda-bfe2-65377672f5d6",
   "metadata": {},
   "outputs": [
    {
     "name": "stdout",
     "output_type": "stream",
     "text": [
      "The constructed dictionary list: [{'name': 'datascience', 'id': 3}, {'name': 'is', 'id': 8}]\n"
     ]
    }
   ],
   "source": [
    "test_list = [\"datascience\", 3, \"is\", 8]\n",
    "key_list = [\"name\", \"id\"]\n",
    "\n",
    "n = len(test_list)\n",
    "res = []\n",
    "for idx in range(0, n, 2):\n",
    "    res.append({key_list[0]: test_list[idx], key_list[1]: test_list[idx + 1]})\n",
    "\n",
    "print(\"The constructed dictionary list:\", res)"
   ]
  },
  {
   "cell_type": "markdown",
   "id": "59b82f96-0a09-4329-a3be-01eb15381dd1",
   "metadata": {},
   "source": [
    "## Example 2:\n",
    "\n",
    "#### Input:\n",
    "\n",
    "test_list = [\"CampusX\", 10]\n",
    "key_list = [\"name\", \"id\"]\n",
    "#### Output:\n",
    "\n",
    "[{'name': 'CampusX', 'id': 10}]"
   ]
  },
  {
   "cell_type": "code",
   "execution_count": 10,
   "id": "e7836278-325a-436a-94bd-838feeca4d1d",
   "metadata": {},
   "outputs": [
    {
     "name": "stdout",
     "output_type": "stream",
     "text": [
      "The constructed dictionary list: [{'name': 'CampusX', 'id': 10}]\n"
     ]
    }
   ],
   "source": [
    "test_list =  [\"CampusX\", 10]\n",
    "key_list = [\"name\", \"id\"]\n",
    "\n",
    "n = len(test_list)\n",
    "res = []\n",
    "for idx in range(0, n, 2):\n",
    "    res.append({key_list[0]: test_list[idx], key_list[1]: test_list[idx + 1]})\n",
    "\n",
    "print(\"The constructed dictionary list:\", res)"
   ]
  },
  {
   "cell_type": "markdown",
   "id": "29c3f830-625b-40fa-8828-f60aedb5f310",
   "metadata": {},
   "source": [
    "## Q4: Convert a list of Tuples into Dictionary.\n",
    "Example 1:\n",
    "\n",
    "#### Input:\n",
    "\n",
    "[(\"akash\", 10), (\"gaurav\", 12), (\"anand\", 14), (\"suraj\", 20), (\"akhil\", 25), (\"ashish\", 30)]\n",
    "#### Output:\n",
    "\n",
    "{'akash': [10], 'gaurav': [12], 'anand': [14], 'suraj': [20], 'akhil': [25], 'ashish': [30]}"
   ]
  },
  {
   "cell_type": "code",
   "execution_count": 7,
   "id": "c5917e57-2020-40d9-96a9-5d05fad21483",
   "metadata": {},
   "outputs": [
    {
     "name": "stdout",
     "output_type": "stream",
     "text": [
      "{'akash': [10], 'gaurav': [12], 'anand': [14], 'suraj': [20], 'akhil': [25], 'ashish': [30]}\n"
     ]
    }
   ],
   "source": [
    "def convert_to_dict(tup):\n",
    "    result_dict = {}\n",
    "    for key, value in tup:\n",
    "        result_dict.setdefault(key, []).append(value)\n",
    "    return result_dict\n",
    "\n",
    "input_list = [(\"akash\", 10), (\"gaurav\", 12), (\"anand\", 14), (\"suraj\", 20), (\"akhil\", 25), (\"ashish\", 30)]\n",
    "output_dict = convert_to_dict(input_list)\n",
    "print(output_dict)"
   ]
  },
  {
   "cell_type": "markdown",
   "id": "b084750a-fce8-4085-b64c-60334f758608",
   "metadata": {},
   "source": [
    "## Example 2:\n",
    "\n",
    "#### Input:\n",
    "\n",
    "[('A', 1), ('B', 2), ('C', 3)]\n",
    "#### Output:\n",
    "\n",
    "{'A': [1], 'B': [2], 'C': [3]}"
   ]
  },
  {
   "cell_type": "code",
   "execution_count": 8,
   "id": "1ebca1b8-5a62-4b33-bb09-819a815e832a",
   "metadata": {},
   "outputs": [
    {
     "name": "stdout",
     "output_type": "stream",
     "text": [
      "{'A': [1], 'B': [2], 'C': [3]}\n"
     ]
    }
   ],
   "source": [
    "def convert_to_dict(tup):\n",
    "    result_dict = {}\n",
    "    for key, value in tup:\n",
    "        result_dict.setdefault(key, []).append(value)\n",
    "    return result_dict\n",
    "\n",
    "input_list = [('A', 1), ('B', 2), ('C', 3)]\n",
    "output_dict = convert_to_dict(input_list)\n",
    "print(output_dict)"
   ]
  },
  {
   "cell_type": "markdown",
   "id": "623e9b31-177a-4d79-ab62-b946b5fbfe77",
   "metadata": {},
   "source": [
    "## Q5: Sort Dictionary key and values List.\n",
    "### Example 1:\n",
    "\n",
    "#### Input:\n",
    "\n",
    "{'c': [3], 'b': [12, 10], 'a': [19, 4]}\n",
    "#### Output:\n",
    "\n",
    "{'a': [4, 19], 'b': [10, 12], 'c': [3]}\n"
   ]
  },
  {
   "cell_type": "code",
   "execution_count": 5,
   "id": "8f72c86b-14e4-4113-a999-72f9eeb27212",
   "metadata": {},
   "outputs": [
    {
     "name": "stdout",
     "output_type": "stream",
     "text": [
      "{'a': [4, 19], 'b': [10, 12], 'c': [3]}\n"
     ]
    }
   ],
   "source": [
    "input_dict = {'c': [3], 'b': [12, 10], 'a': [19, 4]}\n",
    "\n",
    "output_dict = {key: sorted(input_dict[key]) for key in sorted(input_dict)}\n",
    "\n",
    "print(output_dict)"
   ]
  },
  {
   "cell_type": "markdown",
   "id": "e5f792aa-49ce-450b-9af2-b345fd5207fa",
   "metadata": {},
   "source": [
    "## Example 2:\n",
    "\n",
    "#### Input:\n",
    "\n",
    "{'c': [10, 34, 3]}\n",
    "#### Output:\n",
    "\n",
    "{'c': [3, 10, 34]}"
   ]
  },
  {
   "cell_type": "code",
   "execution_count": 6,
   "id": "26824c2f-26ea-4ec5-bb84-44124b28c488",
   "metadata": {},
   "outputs": [
    {
     "name": "stdout",
     "output_type": "stream",
     "text": [
      "{'c': [3, 10, 34]}\n"
     ]
    }
   ],
   "source": [
    "input_dict = {'c': [10, 34, 3]}\n",
    "\n",
    "output_dict = {key: sorted(input_dict[key]) for key in sorted(input_dict)}\n",
    "\n",
    "print(output_dict)"
   ]
  },
  {
   "cell_type": "code",
   "execution_count": null,
   "id": "04e7a77b-89a7-46d3-95b1-ef9a3b1d2ba7",
   "metadata": {},
   "outputs": [],
   "source": []
  }
 ],
 "metadata": {
  "kernelspec": {
   "display_name": "Python 3 (ipykernel)",
   "language": "python",
   "name": "python3"
  },
  "language_info": {
   "codemirror_mode": {
    "name": "ipython",
    "version": 3
   },
   "file_extension": ".py",
   "mimetype": "text/x-python",
   "name": "python",
   "nbconvert_exporter": "python",
   "pygments_lexer": "ipython3",
   "version": "3.11.7"
  }
 },
 "nbformat": 4,
 "nbformat_minor": 5
}
