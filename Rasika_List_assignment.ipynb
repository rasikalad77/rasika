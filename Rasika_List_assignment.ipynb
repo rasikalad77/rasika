{
 "cells": [
  {
   "cell_type": "code",
   "execution_count": 1,
   "id": "7efc5891-1fce-4d83-bbad-5d87207f9b9d",
   "metadata": {},
   "outputs": [
    {
     "name": "stdout",
     "output_type": "stream",
     "text": [
      "original list:  [1, 2, 3, 4, 5, 6]\n",
      "Odd number list : [1, 3, 5]\n",
      "Even number list : [2, 4, 6]\n"
     ]
    }
   ],
   "source": [
    "# Q 1 \n",
    "# Create 2 lists from a given list where \n",
    "# 1st list will contain all the odd numbers from the original list and\n",
    "# the 2nd one will contain all the even numbers\n",
    "\n",
    "    \n",
    "L = [1,2,3,4,5,6]\n",
    "L1 = [i for i in L if i % 2 != 0]\n",
    "L2 = [i for i in L if i % 2 == 0]\n",
    "\n",
    "print(\"original list: \",L)\n",
    "print(\"Odd number list :\",L1)\n",
    "print(\"Even number list :\",L2)\n"
   ]
  },
  {
   "cell_type": "code",
   "execution_count": 2,
   "id": "df1f9971-e717-4b4a-878b-1ed71be8acc3",
   "metadata": {},
   "outputs": [
    {
     "name": "stdin",
     "output_type": "stream",
     "text": [
      "Enter number of elements :  5\n",
      " 12\n",
      " 22\n",
      " 26\n",
      " 45\n",
      " 23\n"
     ]
    },
    {
     "name": "stdout",
     "output_type": "stream",
     "text": [
      "[12, 22, 26, 45, 23]\n"
     ]
    }
   ],
   "source": [
    "# Q 2\n",
    "# How to take list as input from user\n",
    "\n",
    "\n",
    "\n",
    "list = []\n",
    " \n",
    "n = int(input(\"Enter number of elements : \"))\n",
    " \n",
    "for i in range(0, n):\n",
    "    L1 = int(input())\n",
    "\n",
    "    list.append(L1)  \n",
    " \n",
    "print(list)"
   ]
  },
  {
   "cell_type": "code",
   "execution_count": 3,
   "id": "8a523d80-3994-4f57-867d-2196ef083cd7",
   "metadata": {},
   "outputs": [
    {
     "name": "stdout",
     "output_type": "stream",
     "text": [
      "Merged list are: [1, 2, 3, 4, 5, 6, 7, 8]\n"
     ]
    }
   ],
   "source": [
    "# Q 3 \n",
    "# Write a program to merge 2 list without using the + operator\n",
    "# L1 = [1,2,3,4]\n",
    "# L2 = [5,6,7,8]\n",
    "\n",
    "L1 = [1, 2, 3, 4]\n",
    "L2 = [5, 6, 7, 8]\n",
    "\n",
    "for item in L2:\n",
    "    L1.append(item)\n",
    "\n",
    "print(\"Merged list are:\", L1)"
   ]
  },
  {
   "cell_type": "code",
   "execution_count": 4,
   "id": "39a357b7-1243-408d-9f1a-291bf681ad13",
   "metadata": {},
   "outputs": [
    {
     "name": "stdout",
     "output_type": "stream",
     "text": [
      "[1, 2, 300, 4, 5, 300]\n"
     ]
    }
   ],
   "source": [
    "# Q 4\n",
    "# Write a program to replace an item with a different item if found in the list \n",
    "# L = [1,2,3,4,5,3]\n",
    "# replace 3 with 300\n",
    "\n",
    "L = [1, 2, 3, 4, 5, 3]\n",
    "replacement_item = 300\n",
    "\n",
    "for i in range(len(L)):\n",
    "    if L[i] == 3:\n",
    "        L[i] = replacement_item\n",
    "\n",
    "print(L)"
   ]
  },
  {
   "cell_type": "code",
   "execution_count": 5,
   "id": "1ca41b70-3e4c-480e-8078-9d48659f21c4",
   "metadata": {},
   "outputs": [
    {
     "name": "stdout",
     "output_type": "stream",
     "text": [
      " 1D_list: [1, 2, 3, 4, 5, 6, 7, 8, 9]\n"
     ]
    }
   ],
   "source": [
    "# Q 5 \n",
    "# Write a program that can convert a 2D list to 1D list\n",
    "\n",
    "TWOD_list = [[1,2,3], [4,5,6], [7,8,9]]\n",
    "\n",
    "NEW_list = sum(TWOD_list, [])\n",
    "\n",
    "print(\" 1D_list:\", NEW_list)"
   ]
  },
  {
   "cell_type": "code",
   "execution_count": 6,
   "id": "9e9d3824-319f-4a4e-8a39-da4763f85e84",
   "metadata": {},
   "outputs": [
    {
     "name": "stdout",
     "output_type": "stream",
     "text": [
      "The new list are: [1, 2, 3, 4, 5]\n"
     ]
    }
   ],
   "source": [
    "# Q 6 \n",
    "# Write a program to remove duplicate items from a list\n",
    "\n",
    "# L = [1,2,1,2,3,4,5,3,4]\n",
    "\n",
    "L = [1, 2, 1, 2, 3, 4, 5, 3, 4]\n",
    "\n",
    "new_list = list(set(L))\n",
    "\n",
    "print(\"The new list are:\", new_list)"
   ]
  },
  {
   "cell_type": "code",
   "execution_count": 7,
   "id": "dd68593e-6790-4314-9445-0e2d907e2cf1",
   "metadata": {},
   "outputs": [
    {
     "name": "stdout",
     "output_type": "stream",
     "text": [
      "Yes, the list is sorted.\n"
     ]
    }
   ],
   "source": [
    "# Q 7 \n",
    "# Write a program to check if a list is in ascending order or not\n",
    "\n",
    "test_list = [1, 4, 5, 8, 10]\n",
    "\n",
    "is_sorted = all(a <= b for a, b in zip(test_list, test_list[1:]))\n",
    "\n",
    "\n",
    "if is_sorted:\n",
    "\tprint(\"Yes, the list is sorted.\")\n",
    "else:\n",
    "\tprint(\"No, the list is not sorted.\")"
   ]
  },
  {
   "cell_type": "code",
   "execution_count": null,
   "id": "6ea4cb00-b7c8-44b3-bf6e-c8e8bc69371f",
   "metadata": {},
   "outputs": [],
   "source": []
  }
 ],
 "metadata": {
  "kernelspec": {
   "display_name": "Python 3 (ipykernel)",
   "language": "python",
   "name": "python3"
  },
  "language_info": {
   "codemirror_mode": {
    "name": "ipython",
    "version": 3
   },
   "file_extension": ".py",
   "mimetype": "text/x-python",
   "name": "python",
   "nbconvert_exporter": "python",
   "pygments_lexer": "ipython3",
   "version": "3.11.7"
  }
 },
 "nbformat": 4,
 "nbformat_minor": 5
}
