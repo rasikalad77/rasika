{
 "cells": [
  {
   "cell_type": "code",
   "execution_count": null,
   "id": "0de78271-3cab-4c4e-b387-9afb4c02381b",
   "metadata": {},
   "outputs": [],
   "source": []
  },
  {
   "cell_type": "markdown",
   "id": "4b9da116-b162-422a-a566-a31d34d97236",
   "metadata": {},
   "source": [
    "## 1) find the length of given string (given by user ) without using len() function"
   ]
  },
  {
   "cell_type": "code",
   "execution_count": 1,
   "id": "32a73d87-5434-4100-818f-c3cb4089070b",
   "metadata": {},
   "outputs": [
    {
     "name": "stdin",
     "output_type": "stream",
     "text": [
      "enter the string hello world\n"
     ]
    },
    {
     "name": "stdout",
     "output_type": "stream",
     "text": [
      "length of the string is: 11\n"
     ]
    }
   ],
   "source": [
    "\n",
    "a=str(input(\"enter the string\"))\n",
    "\n",
    "count=0\n",
    "for i in a:\n",
    "    count += 1\n",
    "print(\"length of the string is:\",count)"
   ]
  },
  {
   "cell_type": "markdown",
   "id": "23a004e8-d914-47d4-9d22-f90fea91a642",
   "metadata": {},
   "source": [
    "## 2) extract userid from given mail id ,eg if the mail is rasikalad@gamil.com then user name shoud be rasikalad"
   ]
  },
  {
   "cell_type": "code",
   "execution_count": 2,
   "id": "3e4d7941-d42f-4ea4-b8ad-32d5a63b489d",
   "metadata": {},
   "outputs": [
    {
     "name": "stdin",
     "output_type": "stream",
     "text": [
      "enter a email id  rasikalad@gmail.com\n"
     ]
    },
    {
     "name": "stdout",
     "output_type": "stream",
     "text": [
      "rasikalad@gmail.com\n",
      "rasikalad\n"
     ]
    }
   ],
   "source": [
    "##extract userid from given mail id \n",
    "##eg if the mail is pranavpawar@gamil.com\n",
    "##then user name shoud br pranavpawar\n",
    "str=input(\"enter a email id \")\n",
    "print(str)\n",
    "poss=str.index(\"@\")\n",
    "print(str[0:poss])\n"
   ]
  },
  {
   "cell_type": "markdown",
   "id": "c9672755-d116-4aed-81b2-deb88ab64f3c",
   "metadata": {},
   "source": [
    "## 3) count the frequence of particular  character in provided string ,eg hello how are you \" is the string ,the freq of h in this string is 2"
   ]
  },
  {
   "cell_type": "code",
   "execution_count": 7,
   "id": "901d02c5-0547-45e5-84e3-0f14c8137096",
   "metadata": {},
   "outputs": [
    {
     "name": "stdin",
     "output_type": "stream",
     "text": [
      "enter a string hello how are you\n",
      "what would you like to seach h\n"
     ]
    },
    {
     "name": "stdout",
     "output_type": "stream",
     "text": [
      "frequence  of char is  2\n"
     ]
    }
   ],
   "source": [
    "#count the frequence of particular  character in provided string \n",
    "#eg hello how are you \" is the string ,the freq of h in this string is 2\n",
    "str=input(\"enter a string\")\n",
    "count=input(\"what would you like to seach\")\n",
    "freq=0\n",
    "for i in str:\n",
    "     if i==count:\n",
    "         freq += 1\n",
    "print(\"frequence  of char is \",freq)"
   ]
  },
  {
   "cell_type": "markdown",
   "id": "2dc5653c-a11d-49d5-9389-83dc76475eaa",
   "metadata": {},
   "source": [
    "## 4) write a program ehich can remove  a particular char from string"
   ]
  },
  {
   "cell_type": "code",
   "execution_count": 8,
   "id": "13a9c3ee-e833-460f-9e4e-dcad1581c729",
   "metadata": {},
   "outputs": [
    {
     "name": "stdin",
     "output_type": "stream",
     "text": [
      "enter a string hello hello\n",
      "what like to you to remove h\n"
     ]
    },
    {
     "name": "stdout",
     "output_type": "stream",
     "text": [
      "ello ello\n"
     ]
    }
   ],
   "source": [
    "#write a program ehich can remove \n",
    "# a particular char from string\n",
    "str=input(\"enter a string\")\n",
    "count=input(\"what like to you to remove\")\n",
    "result=\"\"\n",
    "for i in str :\n",
    "    if i != count:\n",
    "        result=result+i\n",
    "print(result)"
   ]
  },
  {
   "cell_type": "markdown",
   "id": "cb3e168e-8cd5-4354-97b8-448d7175f715",
   "metadata": {},
   "source": [
    "## 5) write a program that can check wherher a give string is palindrom or not "
   ]
  },
  {
   "cell_type": "code",
   "execution_count": 15,
   "id": "38861dfd-abf6-4dc1-8c1c-48f01e602d99",
   "metadata": {},
   "outputs": [
    {
     "name": "stdin",
     "output_type": "stream",
     "text": [
      "enter  palindrom string abba\n"
     ]
    },
    {
     "name": "stdout",
     "output_type": "stream",
     "text": [
      "yes\n"
     ]
    }
   ],
   "source": [
    "str=input(\"enter  palindrom string\")\n",
    "r=''.join(reversed(str))\n",
    "if (r==str):\n",
    "    print(\"yes\")\n",
    "else:\n",
    "    print(\"no\")\n",
    "      "
   ]
  },
  {
   "cell_type": "markdown",
   "id": "3d8c530b-9d02-4695-8ac6-c208efb57e7b",
   "metadata": {},
   "source": [
    "## 6) write  a program to countthe number of words in a string without split()"
   ]
  },
  {
   "cell_type": "code",
   "execution_count": 6,
   "id": "1fba1c0b-46d0-4e49-8ba5-813c84d7ba9f",
   "metadata": {},
   "outputs": [
    {
     "name": "stdin",
     "output_type": "stream",
     "text": [
      "enter string all there many\n"
     ]
    },
    {
     "name": "stdout",
     "output_type": "stream",
     "text": [
      "3\n"
     ]
    }
   ],
   "source": [
    "str=input (\"enter string\")\n",
    "char=1\n",
    "for i in str:\n",
    "    if i.isspace():\n",
    "        char=char+1\n",
    "print(char)\n",
    "\n"
   ]
  },
  {
   "cell_type": "markdown",
   "id": "cb13a93e-13a7-454f-91c8-b35dc0f6de1f",
   "metadata": {},
   "source": [
    "## 7) write a python program to convert a string to title case without  using the title()"
   ]
  },
  {
   "cell_type": "code",
   "execution_count": 1,
   "id": "40fce538-30dc-41bb-a73c-02c5f68d7384",
   "metadata": {},
   "outputs": [
    {
     "name": "stdin",
     "output_type": "stream",
     "text": [
      "enter the string DATA Science\n"
     ]
    },
    {
     "name": "stdout",
     "output_type": "stream",
     "text": [
      " Data Science \n"
     ]
    }
   ],
   "source": [
    "a = input  (\"enter the string\")\n",
    "y = a.split()\n",
    "r = ' '\n",
    "for i in y:\n",
    "    r = r+i[0].upper()+i[1:].lower()+' '\n",
    "\n",
    "print(r)"
   ]
  },
  {
   "cell_type": "code",
   "execution_count": null,
   "id": "121e28ab-a410-472c-9088-54e3312d6ead",
   "metadata": {},
   "outputs": [],
   "source": []
  }
 ],
 "metadata": {
  "kernelspec": {
   "display_name": "Python 3 (ipykernel)",
   "language": "python",
   "name": "python3"
  },
  "language_info": {
   "codemirror_mode": {
    "name": "ipython",
    "version": 3
   },
   "file_extension": ".py",
   "mimetype": "text/x-python",
   "name": "python",
   "nbconvert_exporter": "python",
   "pygments_lexer": "ipython3",
   "version": "3.11.7"
  }
 },
 "nbformat": 4,
 "nbformat_minor": 5
}
